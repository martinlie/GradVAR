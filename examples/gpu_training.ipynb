{
 "cells": [
  {
   "cell_type": "markdown",
   "id": "aa1f1c85",
   "metadata": {},
   "source": [
    "# GPU acceleration and GradVAR training\n",
    "\n",
    "A GPU (Graphics Processing Unit) is a specialized processor originally designed for rendering graphics, but now widely used in scientific computing and machine learning due to its ability to perform parallel computations at high speed. Unlike CPUs, which are optimized for sequential task execution, GPUs consist of thousands of smaller cores designed for handling multiple operations simultaneously, making them ideal for vectorized and matrix-heavy computations.\n",
    "\n",
    "When run on compatible hardware, GradVAR can transparently offload computations to the GPU, dramatically improving performance, especially for large-scale linear algebra, deep learning, and scientific simulation tasks.\n",
    "\n",
    "To use GradVAR with GPU, install GradVAR using:\n",
    "\n",
    "```sh\n",
    "pip install gradvar[gpu]\n",
    "pip install --upgrade \"jax[cuda]\" -f https://storage.googleapis.com/jax-releases/jax_cuda_releases.html\n",
    "```\n",
    "\n",
    "Alternatively, you can ensure that the JAX installation is properly configured with a GPU before a regular `pip install gradvar`. Follow instructions at [Installation](https://docs.jax.dev/en/latest/installation.html#pip-installation-gpu-cuda) for more details."
   ]
  },
  {
   "cell_type": "markdown",
   "id": "e8d11db7",
   "metadata": {},
   "source": [
    "## Ensuring that a GPU is available\n",
    "\n",
    "The following two commands will return \"CudaDevice\" and \"gpu\" if properly configured:"
   ]
  },
  {
   "cell_type": "code",
   "execution_count": 4,
   "id": "7d9b98a5",
   "metadata": {},
   "outputs": [
    {
     "data": {
      "text/plain": [
       "[CudaDevice(id=0)]"
      ]
     },
     "execution_count": 4,
     "metadata": {},
     "output_type": "execute_result"
    }
   ],
   "source": [
    "import jax\n",
    "\n",
    "# List available devices (should include GPU)\n",
    "jax.devices()"
   ]
  },
  {
   "cell_type": "code",
   "execution_count": 5,
   "id": "206f4d1c",
   "metadata": {},
   "outputs": [
    {
     "data": {
      "text/plain": [
       "'gpu'"
      ]
     },
     "execution_count": 5,
     "metadata": {},
     "output_type": "execute_result"
    }
   ],
   "source": [
    "from jax.lib import xla_bridge\n",
    "\n",
    "xla_bridge.get_backend().platform"
   ]
  },
  {
   "cell_type": "markdown",
   "id": "ec341ce2",
   "metadata": {},
   "source": [
    "GradVAR will automatically switch to GPU use for the gradient calculations, when available."
   ]
  }
 ],
 "metadata": {
  "kernelspec": {
   "display_name": "Python 3",
   "language": "python",
   "name": "python3"
  },
  "language_info": {
   "codemirror_mode": {
    "name": "ipython",
    "version": 3
   },
   "file_extension": ".py",
   "mimetype": "text/x-python",
   "name": "python",
   "nbconvert_exporter": "python",
   "pygments_lexer": "ipython3",
   "version": "3.12.9"
  }
 },
 "nbformat": 4,
 "nbformat_minor": 5
}
